{
 "cells": [
  {
   "cell_type": "markdown",
   "metadata": {},
   "source": [
    "<p>Hello, just a beginner here. I found this <a href = 'https://data.fivethirtyeight.com/'>dataset</a> about the police killings that happened in the USA in 2015 and decided to look into it. My primary goal was to find the most vulnerable community, basing my analysis on the age group that seemed to be most affected. There are many ways that one could go about this, that is by zeroing in on the age or race but seeing as the states is predominantly biased, I felt that that would give me biased results. </p>"
   ]
  },
  {
   "cell_type": "code",
   "execution_count": 1,
   "metadata": {},
   "outputs": [],
   "source": [
    "import pandas as pd\n",
    "from csv import reader"
   ]
  },
  {
   "cell_type": "code",
   "execution_count": 2,
   "metadata": {},
   "outputs": [
    {
     "data": {
      "text/html": [
       "<div>\n",
       "<style scoped>\n",
       "    .dataframe tbody tr th:only-of-type {\n",
       "        vertical-align: middle;\n",
       "    }\n",
       "\n",
       "    .dataframe tbody tr th {\n",
       "        vertical-align: top;\n",
       "    }\n",
       "\n",
       "    .dataframe thead th {\n",
       "        text-align: right;\n",
       "    }\n",
       "</style>\n",
       "<table border=\"1\" class=\"dataframe\">\n",
       "  <thead>\n",
       "    <tr style=\"text-align: right;\">\n",
       "      <th></th>\n",
       "      <th>name</th>\n",
       "      <th>age</th>\n",
       "      <th>gender</th>\n",
       "      <th>raceethnicity</th>\n",
       "      <th>month</th>\n",
       "      <th>day</th>\n",
       "      <th>year</th>\n",
       "      <th>streetaddress</th>\n",
       "      <th>city</th>\n",
       "      <th>state</th>\n",
       "      <th>...</th>\n",
       "      <th>share_hispanic</th>\n",
       "      <th>p_income</th>\n",
       "      <th>h_income</th>\n",
       "      <th>county_income</th>\n",
       "      <th>comp_income</th>\n",
       "      <th>county_bucket</th>\n",
       "      <th>nat_bucket</th>\n",
       "      <th>pov</th>\n",
       "      <th>urate</th>\n",
       "      <th>college</th>\n",
       "    </tr>\n",
       "  </thead>\n",
       "  <tbody>\n",
       "    <tr>\n",
       "      <th>0</th>\n",
       "      <td>A'donte Washington</td>\n",
       "      <td>16</td>\n",
       "      <td>Male</td>\n",
       "      <td>Black</td>\n",
       "      <td>February</td>\n",
       "      <td>23</td>\n",
       "      <td>2015</td>\n",
       "      <td>Clearview Ln</td>\n",
       "      <td>Millbrook</td>\n",
       "      <td>AL</td>\n",
       "      <td>...</td>\n",
       "      <td>5.6</td>\n",
       "      <td>28375</td>\n",
       "      <td>51367.0</td>\n",
       "      <td>54766</td>\n",
       "      <td>0.937936</td>\n",
       "      <td>3.0</td>\n",
       "      <td>3.0</td>\n",
       "      <td>14.1</td>\n",
       "      <td>0.097686</td>\n",
       "      <td>0.168510</td>\n",
       "    </tr>\n",
       "    <tr>\n",
       "      <th>1</th>\n",
       "      <td>Aaron Rutledge</td>\n",
       "      <td>27</td>\n",
       "      <td>Male</td>\n",
       "      <td>White</td>\n",
       "      <td>April</td>\n",
       "      <td>2</td>\n",
       "      <td>2015</td>\n",
       "      <td>300 block Iris Park Dr</td>\n",
       "      <td>Pineville</td>\n",
       "      <td>LA</td>\n",
       "      <td>...</td>\n",
       "      <td>0.5</td>\n",
       "      <td>14678</td>\n",
       "      <td>27972.0</td>\n",
       "      <td>40930</td>\n",
       "      <td>0.683411</td>\n",
       "      <td>2.0</td>\n",
       "      <td>1.0</td>\n",
       "      <td>28.8</td>\n",
       "      <td>0.065724</td>\n",
       "      <td>0.111402</td>\n",
       "    </tr>\n",
       "    <tr>\n",
       "      <th>2</th>\n",
       "      <td>Aaron Siler</td>\n",
       "      <td>26</td>\n",
       "      <td>Male</td>\n",
       "      <td>White</td>\n",
       "      <td>March</td>\n",
       "      <td>14</td>\n",
       "      <td>2015</td>\n",
       "      <td>22nd Ave and 56th St</td>\n",
       "      <td>Kenosha</td>\n",
       "      <td>WI</td>\n",
       "      <td>...</td>\n",
       "      <td>16.8</td>\n",
       "      <td>25286</td>\n",
       "      <td>45365.0</td>\n",
       "      <td>54930</td>\n",
       "      <td>0.825869</td>\n",
       "      <td>2.0</td>\n",
       "      <td>3.0</td>\n",
       "      <td>14.6</td>\n",
       "      <td>0.166293</td>\n",
       "      <td>0.147312</td>\n",
       "    </tr>\n",
       "    <tr>\n",
       "      <th>3</th>\n",
       "      <td>Aaron Valdez</td>\n",
       "      <td>25</td>\n",
       "      <td>Male</td>\n",
       "      <td>Hispanic/Latino</td>\n",
       "      <td>March</td>\n",
       "      <td>11</td>\n",
       "      <td>2015</td>\n",
       "      <td>3000 Seminole Ave</td>\n",
       "      <td>South Gate</td>\n",
       "      <td>CA</td>\n",
       "      <td>...</td>\n",
       "      <td>98.8</td>\n",
       "      <td>17194</td>\n",
       "      <td>48295.0</td>\n",
       "      <td>55909</td>\n",
       "      <td>0.863814</td>\n",
       "      <td>3.0</td>\n",
       "      <td>3.0</td>\n",
       "      <td>11.7</td>\n",
       "      <td>0.124827</td>\n",
       "      <td>0.050133</td>\n",
       "    </tr>\n",
       "    <tr>\n",
       "      <th>4</th>\n",
       "      <td>Adam Jovicic</td>\n",
       "      <td>29</td>\n",
       "      <td>Male</td>\n",
       "      <td>White</td>\n",
       "      <td>March</td>\n",
       "      <td>19</td>\n",
       "      <td>2015</td>\n",
       "      <td>364 Hiwood Ave</td>\n",
       "      <td>Munroe Falls</td>\n",
       "      <td>OH</td>\n",
       "      <td>...</td>\n",
       "      <td>1.7</td>\n",
       "      <td>33954</td>\n",
       "      <td>68785.0</td>\n",
       "      <td>49669</td>\n",
       "      <td>1.384868</td>\n",
       "      <td>5.0</td>\n",
       "      <td>4.0</td>\n",
       "      <td>1.9</td>\n",
       "      <td>0.063550</td>\n",
       "      <td>0.403954</td>\n",
       "    </tr>\n",
       "  </tbody>\n",
       "</table>\n",
       "<p>5 rows × 34 columns</p>\n",
       "</div>"
      ],
      "text/plain": [
       "                 name age gender    raceethnicity     month  day  year  \\\n",
       "0  A'donte Washington  16   Male            Black  February   23  2015   \n",
       "1      Aaron Rutledge  27   Male            White     April    2  2015   \n",
       "2         Aaron Siler  26   Male            White     March   14  2015   \n",
       "3        Aaron Valdez  25   Male  Hispanic/Latino     March   11  2015   \n",
       "4        Adam Jovicic  29   Male            White     March   19  2015   \n",
       "\n",
       "            streetaddress          city state  ...  share_hispanic  p_income  \\\n",
       "0            Clearview Ln     Millbrook    AL  ...             5.6     28375   \n",
       "1  300 block Iris Park Dr     Pineville    LA  ...             0.5     14678   \n",
       "2    22nd Ave and 56th St       Kenosha    WI  ...            16.8     25286   \n",
       "3       3000 Seminole Ave    South Gate    CA  ...            98.8     17194   \n",
       "4          364 Hiwood Ave  Munroe Falls    OH  ...             1.7     33954   \n",
       "\n",
       "   h_income  county_income  comp_income  county_bucket  nat_bucket   pov  \\\n",
       "0   51367.0          54766     0.937936            3.0         3.0  14.1   \n",
       "1   27972.0          40930     0.683411            2.0         1.0  28.8   \n",
       "2   45365.0          54930     0.825869            2.0         3.0  14.6   \n",
       "3   48295.0          55909     0.863814            3.0         3.0  11.7   \n",
       "4   68785.0          49669     1.384868            5.0         4.0   1.9   \n",
       "\n",
       "      urate   college  \n",
       "0  0.097686  0.168510  \n",
       "1  0.065724  0.111402  \n",
       "2  0.166293  0.147312  \n",
       "3  0.124827  0.050133  \n",
       "4  0.063550  0.403954  \n",
       "\n",
       "[5 rows x 34 columns]"
      ]
     },
     "execution_count": 2,
     "metadata": {},
     "output_type": "execute_result"
    }
   ],
   "source": [
    "df = pd.read_csv('police_killings.csv', encoding = 'ISO-8859-1')\n",
    "df.head()"
   ]
  },
  {
   "cell_type": "code",
   "execution_count": 246,
   "metadata": {},
   "outputs": [
    {
     "data": {
      "text/plain": [
       "(467, 34)"
      ]
     },
     "execution_count": 246,
     "metadata": {},
     "output_type": "execute_result"
    }
   ],
   "source": [
    "df.shape"
   ]
  },
  {
   "cell_type": "code",
   "execution_count": 247,
   "metadata": {},
   "outputs": [
    {
     "data": {
      "text/plain": [
       "Index(['name', 'age', 'gender', 'raceethnicity', 'month', 'day', 'year',\n",
       "       'streetaddress', 'city', 'state', 'latitude', 'longitude', 'state_fp',\n",
       "       'county_fp', 'tract_ce', 'geo_id', 'county_id', 'namelsad',\n",
       "       'lawenforcementagency', 'cause', 'armed', 'pop', 'share_white',\n",
       "       'share_black', 'share_hispanic', 'p_income', 'h_income',\n",
       "       'county_income', 'comp_income', 'county_bucket', 'nat_bucket', 'pov',\n",
       "       'urate', 'college'],\n",
       "      dtype='object')"
      ]
     },
     "execution_count": 247,
     "metadata": {},
     "output_type": "execute_result"
    }
   ],
   "source": [
    "df.columns "
   ]
  },
  {
   "cell_type": "code",
   "execution_count": 26,
   "metadata": {},
   "outputs": [
    {
     "data": {
      "text/plain": [
       "(463, 17)"
      ]
     },
     "execution_count": 26,
     "metadata": {},
     "output_type": "execute_result"
    }
   ],
   "source": [
    "# Droppping unnecessary columns together with those rows where the age was not specified.\n",
    "\n",
    "df.drop(['name','day','streetaddress', 'city','latitude', 'longitude', 'state_fp','county_fp', \n",
    "         'tract_ce', 'geo_id', 'county_id', 'namelsad', 'year', 'nat_bucket','h_income',\n",
    "       'county_income', 'comp_income'], inplace = True, axis = 1)\n",
    "unknowns = df[(df['age'] == 'Unknown')]\n",
    "df = df.drop(unknowns.index)\n",
    "df.shape"
   ]
  },
  {
   "cell_type": "code",
   "execution_count": 24,
   "metadata": {},
   "outputs": [
    {
     "data": {
      "text/html": [
       "<div>\n",
       "<style scoped>\n",
       "    .dataframe tbody tr th:only-of-type {\n",
       "        vertical-align: middle;\n",
       "    }\n",
       "\n",
       "    .dataframe tbody tr th {\n",
       "        vertical-align: top;\n",
       "    }\n",
       "\n",
       "    .dataframe thead th {\n",
       "        text-align: right;\n",
       "    }\n",
       "</style>\n",
       "<table border=\"1\" class=\"dataframe\">\n",
       "  <thead>\n",
       "    <tr style=\"text-align: right;\">\n",
       "      <th></th>\n",
       "      <th>age</th>\n",
       "      <th>gender</th>\n",
       "      <th>raceethnicity</th>\n",
       "      <th>month</th>\n",
       "      <th>state</th>\n",
       "      <th>lawenforcementagency</th>\n",
       "      <th>cause</th>\n",
       "      <th>armed</th>\n",
       "      <th>pop</th>\n",
       "      <th>share_white</th>\n",
       "      <th>share_black</th>\n",
       "      <th>share_hispanic</th>\n",
       "      <th>p_income</th>\n",
       "      <th>county_bucket</th>\n",
       "      <th>pov</th>\n",
       "      <th>urate</th>\n",
       "      <th>college</th>\n",
       "    </tr>\n",
       "  </thead>\n",
       "  <tbody>\n",
       "    <tr>\n",
       "      <th>0</th>\n",
       "      <td>16</td>\n",
       "      <td>Male</td>\n",
       "      <td>Black</td>\n",
       "      <td>February</td>\n",
       "      <td>AL</td>\n",
       "      <td>Millbrook Police Department</td>\n",
       "      <td>Gunshot</td>\n",
       "      <td>No</td>\n",
       "      <td>3779</td>\n",
       "      <td>60.5</td>\n",
       "      <td>30.5</td>\n",
       "      <td>5.6</td>\n",
       "      <td>28375</td>\n",
       "      <td>3.0</td>\n",
       "      <td>14.1</td>\n",
       "      <td>0.097686</td>\n",
       "      <td>0.168510</td>\n",
       "    </tr>\n",
       "    <tr>\n",
       "      <th>1</th>\n",
       "      <td>27</td>\n",
       "      <td>Male</td>\n",
       "      <td>White</td>\n",
       "      <td>April</td>\n",
       "      <td>LA</td>\n",
       "      <td>Rapides Parish Sheriff's Office</td>\n",
       "      <td>Gunshot</td>\n",
       "      <td>No</td>\n",
       "      <td>2769</td>\n",
       "      <td>53.8</td>\n",
       "      <td>36.2</td>\n",
       "      <td>0.5</td>\n",
       "      <td>14678</td>\n",
       "      <td>2.0</td>\n",
       "      <td>28.8</td>\n",
       "      <td>0.065724</td>\n",
       "      <td>0.111402</td>\n",
       "    </tr>\n",
       "    <tr>\n",
       "      <th>2</th>\n",
       "      <td>26</td>\n",
       "      <td>Male</td>\n",
       "      <td>White</td>\n",
       "      <td>March</td>\n",
       "      <td>WI</td>\n",
       "      <td>Kenosha Police Department</td>\n",
       "      <td>Gunshot</td>\n",
       "      <td>No</td>\n",
       "      <td>4079</td>\n",
       "      <td>73.8</td>\n",
       "      <td>7.7</td>\n",
       "      <td>16.8</td>\n",
       "      <td>25286</td>\n",
       "      <td>2.0</td>\n",
       "      <td>14.6</td>\n",
       "      <td>0.166293</td>\n",
       "      <td>0.147312</td>\n",
       "    </tr>\n",
       "    <tr>\n",
       "      <th>3</th>\n",
       "      <td>25</td>\n",
       "      <td>Male</td>\n",
       "      <td>Hispanic/Latino</td>\n",
       "      <td>March</td>\n",
       "      <td>CA</td>\n",
       "      <td>South Gate Police Department</td>\n",
       "      <td>Gunshot</td>\n",
       "      <td>Firearm</td>\n",
       "      <td>4343</td>\n",
       "      <td>1.2</td>\n",
       "      <td>0.6</td>\n",
       "      <td>98.8</td>\n",
       "      <td>17194</td>\n",
       "      <td>3.0</td>\n",
       "      <td>11.7</td>\n",
       "      <td>0.124827</td>\n",
       "      <td>0.050133</td>\n",
       "    </tr>\n",
       "    <tr>\n",
       "      <th>4</th>\n",
       "      <td>29</td>\n",
       "      <td>Male</td>\n",
       "      <td>White</td>\n",
       "      <td>March</td>\n",
       "      <td>OH</td>\n",
       "      <td>Kent Police Department</td>\n",
       "      <td>Gunshot</td>\n",
       "      <td>No</td>\n",
       "      <td>6809</td>\n",
       "      <td>92.5</td>\n",
       "      <td>1.4</td>\n",
       "      <td>1.7</td>\n",
       "      <td>33954</td>\n",
       "      <td>5.0</td>\n",
       "      <td>1.9</td>\n",
       "      <td>0.063550</td>\n",
       "      <td>0.403954</td>\n",
       "    </tr>\n",
       "  </tbody>\n",
       "</table>\n",
       "</div>"
      ],
      "text/plain": [
       "  age gender    raceethnicity     month state  \\\n",
       "0  16   Male            Black  February    AL   \n",
       "1  27   Male            White     April    LA   \n",
       "2  26   Male            White     March    WI   \n",
       "3  25   Male  Hispanic/Latino     March    CA   \n",
       "4  29   Male            White     March    OH   \n",
       "\n",
       "              lawenforcementagency    cause    armed   pop share_white  \\\n",
       "0      Millbrook Police Department  Gunshot       No  3779        60.5   \n",
       "1  Rapides Parish Sheriff's Office  Gunshot       No  2769        53.8   \n",
       "2        Kenosha Police Department  Gunshot       No  4079        73.8   \n",
       "3     South Gate Police Department  Gunshot  Firearm  4343         1.2   \n",
       "4           Kent Police Department  Gunshot       No  6809        92.5   \n",
       "\n",
       "  share_black share_hispanic p_income  county_bucket   pov     urate   college  \n",
       "0        30.5            5.6    28375            3.0  14.1  0.097686  0.168510  \n",
       "1        36.2            0.5    14678            2.0  28.8  0.065724  0.111402  \n",
       "2         7.7           16.8    25286            2.0  14.6  0.166293  0.147312  \n",
       "3         0.6           98.8    17194            3.0  11.7  0.124827  0.050133  \n",
       "4         1.4            1.7    33954            5.0   1.9  0.063550  0.403954  "
      ]
     },
     "execution_count": 24,
     "metadata": {},
     "output_type": "execute_result"
    }
   ],
   "source": [
    "df.head()"
   ]
  },
  {
   "cell_type": "code",
   "execution_count": 37,
   "metadata": {},
   "outputs": [],
   "source": [
    "# I first begin by grouping the dataset into age groups\n",
    "\n",
    "below_18 = df[(df['age'].astype(int) >= 1) & (df['age'].astype(int) <= 17)]\n",
    "eighteen_thirty = df[(df['age'].astype(int) >= 18) & (df['age'].astype(int) <= 30)] \n",
    "thirties = df[(df['age'].astype(int) >= 31) & (df['age'].astype(int) <= 39)] \n",
    "forties = df[(df['age'].astype(int) >= 40) & (df['age'].astype(int) <= 49)] \n",
    "fifties = df[(df['age'].astype(int) >= 50) & (df['age'].astype(int) <= 59)] \n",
    "above_sixty = df[(df['age'].astype(int) >= 60)]"
   ]
  },
  {
   "cell_type": "code",
   "execution_count": 38,
   "metadata": {},
   "outputs": [
    {
     "data": {
      "text/plain": [
       "{'below_18': 9,\n",
       " 'eighteen_thirty': 147,\n",
       " 'thirties': 135,\n",
       " 'forties': 90,\n",
       " 'fifties': 53,\n",
       " 'above_sixty': 29}"
      ]
     },
     "execution_count": 38,
     "metadata": {},
     "output_type": "execute_result"
    }
   ],
   "source": [
    "# Determining what the age concentration is for the killed people people is. I placed this into a dictionary\n",
    "df['state'].value_counts().max()\n",
    "dicts = {}\n",
    "groups = ['below_18', 'eighteen_thirty', 'thirties', 'forties', 'fifties', 'above_sixty']\n",
    "lenghts = [below_18.shape[0], eighteen_thirty.shape[0], thirties.shape[0], forties.shape[0], fifties.shape[0], above_sixty.shape[0]]\n",
    "dicts = dict(zip(groups, lenghts))        \n",
    "dicts"
   ]
  },
  {
   "cell_type": "code",
   "execution_count": 39,
   "metadata": {
    "collapsed": true
   },
   "outputs": [
    {
     "data": {
      "text/plain": [
       "CA    30\n",
       "TX    16\n",
       "FL    13\n",
       "AZ    11\n",
       "OK     7\n",
       "MO     5\n",
       "GA     5\n",
       "LA     4\n",
       "IL     4\n",
       "MD     4\n",
       "OH     4\n",
       "MN     3\n",
       "NY     3\n",
       "MI     3\n",
       "SC     3\n",
       "WI     3\n",
       "IN     3\n",
       "NC     3\n",
       "VA     3\n",
       "CO     2\n",
       "MA     2\n",
       "WA     2\n",
       "KS     2\n",
       "NJ     1\n",
       "ID     1\n",
       "UT     1\n",
       "KY     1\n",
       "MT     1\n",
       "NM     1\n",
       "IA     1\n",
       "PA     1\n",
       "NV     1\n",
       "HI     1\n",
       "NE     1\n",
       "TN     1\n",
       "Name: state, dtype: int64"
      ]
     },
     "execution_count": 39,
     "metadata": {},
     "output_type": "execute_result"
    }
   ],
   "source": [
    "# Where does the most affected group come from?\n",
    "\n",
    "eighteen_thirty['state'].value_counts()"
   ]
  },
  {
   "cell_type": "code",
   "execution_count": 40,
   "metadata": {},
   "outputs": [
    {
     "data": {
      "text/plain": [
       "Hispanic/Latino           13\n",
       "Black                      8\n",
       "White                      6\n",
       "Unknown                    2\n",
       "Asian/Pacific Islander     1\n",
       "Name: raceethnicity, dtype: int64"
      ]
     },
     "execution_count": 40,
     "metadata": {},
     "output_type": "execute_result"
    }
   ],
   "source": [
    "youthsInCa = eighteen_thirty[(eighteen_thirty['state'] == 'CA')]\n",
    "youthsInCa['raceethnicity'].value_counts() # What descent did the killed youths from CA mostly belong to?"
   ]
  },
  {
   "cell_type": "markdown",
   "metadata": {},
   "source": [
    "<p>From this, we can tell that the most vulnerable group according to the date are people within the age bracket of 18-30, living in california and belong to a Hispanic descent</p>"
   ]
  },
  {
   "cell_type": "code",
   "execution_count": 41,
   "metadata": {},
   "outputs": [
    {
     "data": {
      "text/plain": [
       "(13, 17)"
      ]
     },
     "execution_count": 41,
     "metadata": {},
     "output_type": "execute_result"
    }
   ],
   "source": [
    "HispyouthsInCa = youthsInCa[(youthsInCa['raceethnicity'] == 'Hispanic/Latino')]\n",
    "HispyouthsInCa.shape"
   ]
  },
  {
   "cell_type": "code",
   "execution_count": 43,
   "metadata": {},
   "outputs": [
    {
     "name": "stdout",
     "output_type": "stream",
     "text": [
      " Those who have a median income of less than 10 thousand are : 0 \n",
      " Those who have a median income between ten and twenty thousand are : 8 \n",
      " Those who have a median income that is over twenty thousand are : 5\n"
     ]
    }
   ],
   "source": [
    "# let's look at the economic status of the people who were killed to further get a glimpse of just who could be at risk of police killing due to one reason or another.\n",
    "belo10kincome = HispyouthsInCa[(HispyouthsInCa['p_income'].astype(int) <10000)]\n",
    "ten_twenty = HispyouthsInCa[(HispyouthsInCa['p_income'].astype(int) >= 10000) & (HispyouthsInCa['p_income'].astype(int) <= 20000)]\n",
    "over_twenty = HispyouthsInCa[(HispyouthsInCa['p_income'].astype(int) > 20000)]\n",
    "print(\n",
    "    ' Those who have a median income of less than 10 thousand are :', belo10kincome.shape[0],'\\n',\n",
    "    'Those who have a median income between ten and twenty thousand are :', ten_twenty.shape[0], '\\n',\n",
    "    'Those who have a median income that is over twenty thousand are :', over_twenty.shape[0])"
   ]
  },
  {
   "cell_type": "code",
   "execution_count": 44,
   "metadata": {},
   "outputs": [
    {
     "name": "stdout",
     "output_type": "stream",
     "text": [
      " Those who have a poverty rate of below 10 are : 0 \n",
      " Those who have a poverty rate between ten and twenty are : 5 \n",
      " Those who have a poverty rate that ranges within the twenties are : 3 \n",
      " Those who have a poverty rate that is over thirty are : 4\n"
     ]
    }
   ],
   "source": [
    "#poverty rate\n",
    "belo10 = HispyouthsInCa[(HispyouthsInCa['pov'].astype(float) <10)]\n",
    "ten_twenty = HispyouthsInCa[(HispyouthsInCa['pov'].astype(float) >= 10) & (HispyouthsInCa['pov'].astype(float) <= 20)]\n",
    "twenties = HispyouthsInCa[(HispyouthsInCa['pov'].astype(float) >= 21) & (HispyouthsInCa['pov'].astype(float) <= 29)]\n",
    "over_thirty = HispyouthsInCa[(HispyouthsInCa['pov'].astype(float) > 30)]\n",
    "print(\n",
    "    ' Those who have a poverty rate of below 10 are :', belo10kincome.shape[0],'\\n',\n",
    "    'Those who have a poverty rate between ten and twenty are :', ten_twenty.shape[0], '\\n',\n",
    "    'Those who have a poverty rate that ranges within the twenties are :', twenties.shape[0], '\\n',\n",
    "    'Those who have a poverty rate that is over thirty are :', over_thirty.shape[0])\n",
    "    "
   ]
  },
  {
   "cell_type": "markdown",
   "metadata": {},
   "source": [
    "Although we had determined that the most vulnerable group of people were the youthful Latinas from Carlifonia, I did some further analysis just to make sure that I wasn't wrong about this. This time, I zeroed in on the race that seemed to be most affected"
   ]
  },
  {
   "cell_type": "code",
   "execution_count": 45,
   "metadata": {},
   "outputs": [
    {
     "data": {
      "text/plain": [
       "White                     235\n",
       "Black                     135\n",
       "Hispanic/Latino            66\n",
       "Unknown                    13\n",
       "Asian/Pacific Islander     10\n",
       "Native American             4\n",
       "Name: raceethnicity, dtype: int64"
      ]
     },
     "execution_count": 45,
     "metadata": {},
     "output_type": "execute_result"
    }
   ],
   "source": [
    "df['raceethnicity'].value_counts()"
   ]
  },
  {
   "cell_type": "code",
   "execution_count": 57,
   "metadata": {
    "collapsed": true
   },
   "outputs": [
    {
     "data": {
      "text/plain": [
       "CA    27\n",
       "TX    15\n",
       "OK    14\n",
       "AZ    14\n",
       "FL    14\n",
       "NC     7\n",
       "OR     7\n",
       "MI     7\n",
       "GA     6\n",
       "MS     6\n",
       "NY     6\n",
       "WA     6\n",
       "KY     5\n",
       "PA     5\n",
       "IL     5\n",
       "IN     5\n",
       "OH     5\n",
       "NM     5\n",
       "LA     5\n",
       "UT     5\n",
       "SC     5\n",
       "MO     5\n",
       "ID     4\n",
       "NE     4\n",
       "CO     4\n",
       "AL     4\n",
       "MA     4\n",
       "KS     4\n",
       "MN     3\n",
       "TN     3\n",
       "WI     3\n",
       "AR     2\n",
       "HI     2\n",
       "IA     2\n",
       "WV     2\n",
       "DE     2\n",
       "NV     2\n",
       "MT     2\n",
       "VA     2\n",
       "NJ     2\n",
       "ME     1\n",
       "WY     1\n",
       "MD     1\n",
       "NH     1\n",
       "CT     1\n",
       "Name: state, dtype: int64"
      ]
     },
     "execution_count": 57,
     "metadata": {},
     "output_type": "execute_result"
    }
   ],
   "source": [
    "whites = df[(df['raceethnicity'] == 'White')]\n",
    "whites['state'].value_counts()"
   ]
  },
  {
   "cell_type": "code",
   "execution_count": 60,
   "metadata": {},
   "outputs": [
    {
     "data": {
      "text/plain": [
       "(6, 17)"
      ]
     },
     "execution_count": 60,
     "metadata": {},
     "output_type": "execute_result"
    }
   ],
   "source": [
    "whitesInCa = whites[(whites['state'] == 'CA')]\n",
    "whiteYInCa = whitesInCa[(whitesInCa['age'].astype(int) >= 18) & (whitesInCa['age'].astype(int) <= 30)]\n",
    "whiteYInCa.shape"
   ]
  },
  {
   "cell_type": "markdown",
   "metadata": {},
   "source": [
    "From this, we can see that being the most vulnerable does not necessarily mean having the biggest numbers, especially if you dominate that region. That would be biased. According to me, the group of people most at risk are the above earlier mentioned"
   ]
  }
 ],
 "metadata": {
  "kernelspec": {
   "display_name": "Python 3",
   "language": "python",
   "name": "python3"
  },
  "language_info": {
   "codemirror_mode": {
    "name": "ipython",
    "version": 3
   },
   "file_extension": ".py",
   "mimetype": "text/x-python",
   "name": "python",
   "nbconvert_exporter": "python",
   "pygments_lexer": "ipython3",
   "version": "3.7.3"
  }
 },
 "nbformat": 4,
 "nbformat_minor": 2
}
